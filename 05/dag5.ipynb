{
 "cells": [
  {
   "cell_type": "code",
   "execution_count": 1,
   "metadata": {},
   "outputs": [],
   "source": [
    "import re\n",
    "import numpy as np\n",
    "from numba.typed import Dict"
   ]
  },
  {
   "cell_type": "code",
   "execution_count": 2,
   "metadata": {},
   "outputs": [],
   "source": [
    "with open('input.txt') as f:\n",
    "    lines = [line.rstrip() for line in f]"
   ]
  },
  {
   "cell_type": "code",
   "execution_count": 3,
   "metadata": {},
   "outputs": [
    {
     "name": "stdout",
     "output_type": "stream",
     "text": [
      "['seeds:', '1347397244', '12212989', '2916488878', '1034516675', '2821376423', '8776260', '2240804122', '368941186', '824872000', '124877531', '1597965637', '36057332', '4091290431', '159289722', '1875817275', '106230212', '998513229', '159131132', '2671581775', '4213184']\n"
     ]
    },
    {
     "data": {
      "text/plain": [
       "{'seed-to-soil map:': 2,\n",
       " 'soil-to-fertilizer map:': 24,\n",
       " 'fertilizer-to-water map:': 73,\n",
       " 'water-to-light map:': 108,\n",
       " 'light-to-temperature map:': 150,\n",
       " 'temperature-to-humidity map:': 180,\n",
       " 'humidity-to-location map:': 229,\n",
       " 'endoffile:': 259}"
      ]
     },
     "execution_count": 3,
     "metadata": {},
     "output_type": "execute_result"
    }
   ],
   "source": [
    "seeds = lines[0].split()\n",
    "print(seeds)\n",
    "linestarts = {\"seed-to-soil map:\":0,\n",
    "              \"soil-to-fertilizer map:\":0,\n",
    "              \"fertilizer-to-water map:\":0,\n",
    "              \"water-to-light map:\":0,\n",
    "              \"light-to-temperature map:\":0,\n",
    "              \"temperature-to-humidity map:\":0,\n",
    "              \"humidity-to-location map:\":0,\n",
    "              \"endoffile:\":0}\n",
    "i = 0\n",
    "for line in lines:\n",
    "    n = 0\n",
    "    for starts in list(linestarts.keys()):\n",
    "        if line == starts:\n",
    "            linestarts[starts] = i\n",
    "        n += 1\n",
    "    i+=1\n",
    "linestarts"
   ]
  },
  {
   "cell_type": "code",
   "execution_count": 4,
   "metadata": {},
   "outputs": [],
   "source": [
    "def search_in_map(lines, which_map, linestarts, find_no):\n",
    "    #with open('inputSample.txt') as f:\n",
    "    #    lines = [line.rstrip() for line in f]\n",
    "    dest_ranges = []\n",
    "    src_ranges = []\n",
    "    this_key = list(linestarts.keys())[which_map]\n",
    "    next_key = list(linestarts.keys())[which_map+1]\n",
    "    this_line = linestarts[this_key]+1\n",
    "\n",
    "    next_line = linestarts[next_key]-1\n",
    "    result = find_no\n",
    "    #print(lines[list(linestarts.keys())[which_map]+1:list(linestarts.keys())[which_map+1]-1])\n",
    "    for line in lines[this_line:next_line]:\n",
    "        #print(line)\n",
    "        line_numbers = [int(x) for x in line.split()]\n",
    "        # dest_ranges.append(np.arange(line_numbers[0],line_numbers[0]+line_numbers[2]))\n",
    "        # src_ranges.append(np.arange(line_numbers[1],line_numbers[1]+line_numbers[2]))\n",
    "        # dest_ranges.append(np.arange(line_numbers[0],line_numbers[0]+line_numbers[2]))\n",
    "        # src_ranges.append(np.arange(line_numbers[1],line_numbers[1]+line_numbers[2]))\n",
    "\n",
    "        dest_ranges = np.arange(line_numbers[0],line_numbers[0]+line_numbers[2])\n",
    "        src_ranges = np.arange(line_numbers[1],line_numbers[1]+line_numbers[2])\n",
    "        #res = {src_ranges[i]: dest_ranges[i] for i in range(len(src_ranges))}\n",
    "        location = np.where(src_ranges == find_no)[0]\n",
    "        \n",
    "        result = dest_ranges[location]\n",
    "        try:\n",
    "            if result != find_no:\n",
    "                return result, this_key\n",
    "        except:\n",
    "            pass\n",
    "\n",
    "    # dest_ranges = [item for sublist in dest_ranges for item in sublist]\n",
    "    # src_ranges = [item for sublist in src_ranges for item in sublist]\n",
    "    #print(dest_ranges)\n",
    "    #print(src_ranges)\n",
    "    # res = {src_ranges[i]: dest_ranges[i] for i in range(len(src_ranges))}\n",
    "    #print(res)\n",
    "    # try:\n",
    "    #    return res[find_no], this_key\n",
    "    #except:\n",
    "    #    return find_no, this_key\n",
    "    return result, this_key\n",
    "        \n",
    "            "
   ]
  },
  {
   "cell_type": "code",
   "execution_count": 5,
   "metadata": {},
   "outputs": [],
   "source": [
    "\n",
    "def search_in_map2(lines: list, which_map: int, linestarts: dict, find_no: int) -> tuple:\n",
    "    #with open('inputSample.txt') as f:\n",
    "    #    lines = [line.rstrip() for line in f]\n",
    "    dest_ranges = []\n",
    "    src_ranges = []\n",
    "    this_key = list(linestarts.keys())[which_map]\n",
    "    next_key = list(linestarts.keys())[which_map+1]\n",
    "    this_line = linestarts[this_key]+1\n",
    "\n",
    "    next_line = linestarts[next_key]-1\n",
    "    find_no = int(find_no)\n",
    "    result = find_no\n",
    "    #print(lines[list(linestarts.keys())[which_map]+1:list(linestarts.keys())[which_map+1]-1])\n",
    "    for line in lines[this_line:next_line]:\n",
    "        #print(line)\n",
    "        line_numbers = [int(x) for x in line.split()]\n",
    "        # dest_ranges.append(np.arange(line_numbers[0],line_numbers[0]+line_numbers[2]))\n",
    "        # src_ranges.append(np.arange(line_numbers[1],line_numbers[1]+line_numbers[2]))\n",
    "        # dest_ranges.append(np.arange(line_numbers[0],line_numbers[0]+line_numbers[2]))\n",
    "        # src_ranges.append(np.arange(line_numbers[1],line_numbers[1]+line_numbers[2]))\n",
    "        dest_ranges = range(line_numbers[0],line_numbers[0]+line_numbers[2]-1)\n",
    "        src_ranges = range(line_numbers[1],line_numbers[1]+line_numbers[2]-1)\n",
    "        #res = {src_ranges[i]: dest_ranges[i] for i in range(len(src_ranges))}\n",
    "        if find_no in src_ranges:\n",
    "            result = dest_ranges[src_ranges.index(find_no)]\n",
    "        \n",
    "    return result, this_key\n",
    "\n",
    "        \n",
    "        \n"
   ]
  },
  {
   "cell_type": "code",
   "execution_count": 8,
   "metadata": {},
   "outputs": [
    {
     "name": "stdout",
     "output_type": "stream",
     "text": [
      "for seed: 1347397244 location: 719150722\n",
      "for seed: 12212989 location: 3549733716\n",
      "for seed: 2916488878 location: 1993306428\n",
      "for seed: 1034516675 location: 2392498413\n",
      "for seed: 2821376423 location: 3347258382\n",
      "for seed: 8776260 location: 2977520620\n",
      "for seed: 2240804122 location: 3424617055\n",
      "for seed: 368941186 location: 3123093454\n",
      "for seed: 824872000 location: 1581942881\n",
      "for seed: 124877531 location: 2467468216\n",
      "for seed: 1597965637 location: 233828685\n",
      "for seed: 36057332 location: 3942453354\n",
      "for seed: 4091290431 location: 1498426390\n",
      "for seed: 159289722 location: 900895802\n",
      "for seed: 1875817275 location: 178159714\n",
      "for seed: 106230212 location: 1065407436\n",
      "for seed: 998513229 location: 614718924\n",
      "for seed: 159131132 location: 900737212\n",
      "for seed: 2671581775 location: 450342284\n",
      "for seed: 4213184 location: 2972957544\n"
     ]
    }
   ],
   "source": [
    "locations = []\n",
    "for seed in seeds[1:30]:\n",
    "    seed = int(seed)\n",
    "    result1 = search_in_map2(lines,0,linestarts,seed)\n",
    "    #print(result1[0])\n",
    "    result2 = search_in_map2(lines,1,linestarts,result1[0])\n",
    "    #print(result2[0])\n",
    "    result3 = search_in_map2(lines,2,linestarts,result2[0])\n",
    "    #print(result3[0])\n",
    "    result4 = search_in_map2(lines,3,linestarts,result3[0])\n",
    "    #print(result4[0])\n",
    "    result5 = search_in_map2(lines,4,linestarts,result4[0])\n",
    "    #print(result5[0])\n",
    "    result6 = search_in_map2(lines,5,linestarts,result5[0])\n",
    "    #print(result6[0])\n",
    "    result7 = search_in_map2(lines,6,linestarts,result6[0])\n",
    "    # print(result1[1] +\" \"+ str(result1[0]))\n",
    "    # print(result2[1] +\" \"+ str(result2[0]))\n",
    "    # print(result3[1] +\" \"+ str(result3[0]))\n",
    "    # print(result4[1] +\" \"+ str(result4[0]))\n",
    "    # print(result5[1] +\" \"+ str(result5[0]))\n",
    "    # print(result6[1] +\" \"+ str(result6[0]))\n",
    "    # print(result7[1] +\" \"+ str(result7[0]))\n",
    "    print(\"for seed: \" + str(seed) + \" location: \" + str(result7[0]))\n",
    "    locations.append(result7[0])"
   ]
  },
  {
   "cell_type": "code",
   "execution_count": 36,
   "metadata": {},
   "outputs": [],
   "source": [
    "from numba import njit\n",
    "import numba\n",
    "@njit()\n",
    "def linesplitter(line: str)->list:\n",
    "    # linesplit = line.split()\n",
    "    # line_numbers = [(x) for x in linesplit]\n",
    "    line_numbers = map(int,line)\n",
    "    return line_numbers"
   ]
  },
  {
   "cell_type": "code",
   "execution_count": 38,
   "metadata": {},
   "outputs": [],
   "source": [
    "def linesplitter(line: str)->list:\n",
    "    # linesplit = line.split()\n",
    "    # line_numbers = [(x) for x in linesplit]\n",
    "    line_numbers = map(int,line)\n",
    "    return line_numbers"
   ]
  },
  {
   "cell_type": "code",
   "execution_count": 41,
   "metadata": {},
   "outputs": [
    {
     "data": {
      "text/plain": [
       "<map at 0x18db571d5d0>"
      ]
     },
     "execution_count": 41,
     "metadata": {},
     "output_type": "execute_result"
    }
   ],
   "source": [
    "linesplitter(\"55 66 77\")"
   ]
  },
  {
   "cell_type": "code",
   "execution_count": 20,
   "metadata": {},
   "outputs": [],
   "source": [
    "def search_in_map3(lines: list, which_map: int, linestarts: dict, find_no: int) -> tuple:\n",
    "\n",
    "\n",
    "    dest_ranges = list()\n",
    "    src_ranges = list\n",
    "    this_key = list(linestarts.keys())[which_map]\n",
    "    next_key = list(linestarts.keys())[which_map+1]\n",
    "    this_line = int(linestarts[this_key]+1)\n",
    "\n",
    "    next_line = int(linestarts[next_key]-1)\n",
    "    find_no = int(find_no)\n",
    "    result = find_no\n",
    "\n",
    "    \n",
    "\n",
    "    for line in lines[this_line:next_line]:\n",
    "        #linesplit = line.split()\n",
    "        #line_numbers = [int(x) for x in linesplit]\n",
    "        line_numbers = linesplitter(line)\n",
    "        dest_ranges = range(line_numbers[0],line_numbers[0]+line_numbers[2]-1)\n",
    "        src_ranges = range(line_numbers[1],line_numbers[1]+line_numbers[2]-1)\n",
    "\n",
    "        if find_no in src_ranges:\n",
    "            result = dest_ranges[src_ranges.index(find_no)]\n",
    "        \n",
    "    return result, this_key\n",
    "\n",
    "        \n",
    "        \n"
   ]
  },
  {
   "cell_type": "code",
   "execution_count": 18,
   "metadata": {},
   "outputs": [
    {
     "name": "stdout",
     "output_type": "stream",
     "text": [
      "The line_profiler extension is already loaded. To reload it, use:\n",
      "  %reload_ext line_profiler\n"
     ]
    },
    {
     "ename": "TypingError",
     "evalue": "Failed in nopython mode pipeline (step: nopython frontend)\n\u001b[1m\u001b[1m\u001b[1mNo implementation of function Function(<class 'int'>) found for signature:\n \n >>> int(unicode_type)\n \nThere are 4 candidate implementations:\n\u001b[1m  - Of which 4 did not match due to:\n  Overload of function 'int': File: <numerous>: Line N/A.\n    With argument(s): '(unicode_type)':\u001b[0m\n\u001b[1m   No match.\u001b[0m\n\u001b[0m\n\u001b[0m\u001b[1mDuring: resolving callee type: Function(<class 'int'>)\u001b[0m\n\u001b[0m\u001b[1mDuring: typing of call at C:\\Users\\57947\\AppData\\Local\\Temp\\ipykernel_24616\\3872698577.py (5)\n\u001b[0m\n\u001b[1m\nFile \"..\\..\\..\\AppData\\Local\\Temp\\ipykernel_24616\\3872698577.py\", line 5:\u001b[0m\n\u001b[1m<source missing, REPL/exec in use?>\u001b[0m\n",
     "output_type": "error",
     "traceback": [
      "\u001b[1;31m---------------------------------------------------------------------------\u001b[0m",
      "\u001b[1;31mTypingError\u001b[0m                               Traceback (most recent call last)",
      "\u001b[1;32mc:\\Users\\57947\\Programmering\\AdventOfCode\\05\\dag5.ipynb Cell 9\u001b[0m line \u001b[0;36m2\n\u001b[0;32m      <a href='vscode-notebook-cell:/c%3A/Users/57947/Programmering/AdventOfCode/05/dag5.ipynb#X25sZmlsZQ%3D%3D?line=0'>1</a>\u001b[0m get_ipython()\u001b[39m.\u001b[39mrun_line_magic(\u001b[39m'\u001b[39m\u001b[39mload_ext\u001b[39m\u001b[39m'\u001b[39m, \u001b[39m'\u001b[39m\u001b[39mline_profiler\u001b[39m\u001b[39m'\u001b[39m)\n\u001b[1;32m----> <a href='vscode-notebook-cell:/c%3A/Users/57947/Programmering/AdventOfCode/05/dag5.ipynb#X25sZmlsZQ%3D%3D?line=1'>2</a>\u001b[0m get_ipython()\u001b[39m.\u001b[39;49mrun_line_magic(\u001b[39m'\u001b[39;49m\u001b[39mlprun\u001b[39;49m\u001b[39m'\u001b[39;49m, \u001b[39m'\u001b[39;49m\u001b[39m-f search_in_map3 search_in_map3(lines,0,linestarts,seed)\u001b[39;49m\u001b[39m'\u001b[39;49m)\n",
      "File \u001b[1;32m~\\AppData\\Local\\Packages\\PythonSoftwareFoundation.Python.3.11_qbz5n2kfra8p0\\LocalCache\\local-packages\\Python311\\site-packages\\IPython\\core\\interactiveshell.py:2454\u001b[0m, in \u001b[0;36mInteractiveShell.run_line_magic\u001b[1;34m(self, magic_name, line, _stack_depth)\u001b[0m\n\u001b[0;32m   2452\u001b[0m     kwargs[\u001b[39m'\u001b[39m\u001b[39mlocal_ns\u001b[39m\u001b[39m'\u001b[39m] \u001b[39m=\u001b[39m \u001b[39mself\u001b[39m\u001b[39m.\u001b[39mget_local_scope(stack_depth)\n\u001b[0;32m   2453\u001b[0m \u001b[39mwith\u001b[39;00m \u001b[39mself\u001b[39m\u001b[39m.\u001b[39mbuiltin_trap:\n\u001b[1;32m-> 2454\u001b[0m     result \u001b[39m=\u001b[39m fn(\u001b[39m*\u001b[39;49margs, \u001b[39m*\u001b[39;49m\u001b[39m*\u001b[39;49mkwargs)\n\u001b[0;32m   2456\u001b[0m \u001b[39m# The code below prevents the output from being displayed\u001b[39;00m\n\u001b[0;32m   2457\u001b[0m \u001b[39m# when using magics with decorator @output_can_be_silenced\u001b[39;00m\n\u001b[0;32m   2458\u001b[0m \u001b[39m# when the last Python token in the expression is a ';'.\u001b[39;00m\n\u001b[0;32m   2459\u001b[0m \u001b[39mif\u001b[39;00m \u001b[39mgetattr\u001b[39m(fn, magic\u001b[39m.\u001b[39mMAGIC_OUTPUT_CAN_BE_SILENCED, \u001b[39mFalse\u001b[39;00m):\n",
      "File \u001b[1;32m~\\AppData\\Local\\Packages\\PythonSoftwareFoundation.Python.3.11_qbz5n2kfra8p0\\LocalCache\\local-packages\\Python311\\site-packages\\line_profiler\\ipython_extension.py:130\u001b[0m, in \u001b[0;36mLineProfilerMagics.lprun\u001b[1;34m(self, parameter_s)\u001b[0m\n\u001b[0;32m    128\u001b[0m \u001b[39mtry\u001b[39;00m:\n\u001b[0;32m    129\u001b[0m     \u001b[39mtry\u001b[39;00m:\n\u001b[1;32m--> 130\u001b[0m         profile\u001b[39m.\u001b[39;49mrunctx(arg_str, global_ns, local_ns)\n\u001b[0;32m    131\u001b[0m         message \u001b[39m=\u001b[39m \u001b[39m\"\u001b[39m\u001b[39m\"\u001b[39m\n\u001b[0;32m    132\u001b[0m     \u001b[39mexcept\u001b[39;00m \u001b[39mSystemExit\u001b[39;00m:\n",
      "File \u001b[1;32m~\\AppData\\Local\\Packages\\PythonSoftwareFoundation.Python.3.11_qbz5n2kfra8p0\\LocalCache\\local-packages\\Python311\\site-packages\\line_profiler\\line_profiler.py:185\u001b[0m, in \u001b[0;36mLineProfiler.runctx\u001b[1;34m(self, cmd, globals, locals)\u001b[0m\n\u001b[0;32m    183\u001b[0m \u001b[39mself\u001b[39m\u001b[39m.\u001b[39menable_by_count()\n\u001b[0;32m    184\u001b[0m \u001b[39mtry\u001b[39;00m:\n\u001b[1;32m--> 185\u001b[0m     exec(cmd, \u001b[39mglobals\u001b[39;49m, \u001b[39mlocals\u001b[39;49m)\n\u001b[0;32m    186\u001b[0m \u001b[39mfinally\u001b[39;00m:\n\u001b[0;32m    187\u001b[0m     \u001b[39mself\u001b[39m\u001b[39m.\u001b[39mdisable_by_count()\n",
      "File \u001b[1;32m<string>:1\u001b[0m\n",
      "\u001b[1;32mc:\\Users\\57947\\Programmering\\AdventOfCode\\05\\dag5.ipynb Cell 9\u001b[0m line \u001b[0;36m1\n\u001b[0;32m     <a href='vscode-notebook-cell:/c%3A/Users/57947/Programmering/AdventOfCode/05/dag5.ipynb#X25sZmlsZQ%3D%3D?line=11'>12</a>\u001b[0m result \u001b[39m=\u001b[39m find_no\n\u001b[0;32m     <a href='vscode-notebook-cell:/c%3A/Users/57947/Programmering/AdventOfCode/05/dag5.ipynb#X25sZmlsZQ%3D%3D?line=15'>16</a>\u001b[0m \u001b[39mfor\u001b[39;00m line \u001b[39min\u001b[39;00m lines[this_line:next_line]:\n\u001b[0;32m     <a href='vscode-notebook-cell:/c%3A/Users/57947/Programmering/AdventOfCode/05/dag5.ipynb#X25sZmlsZQ%3D%3D?line=16'>17</a>\u001b[0m     \u001b[39m#linesplit = line.split()\u001b[39;00m\n\u001b[0;32m     <a href='vscode-notebook-cell:/c%3A/Users/57947/Programmering/AdventOfCode/05/dag5.ipynb#X25sZmlsZQ%3D%3D?line=17'>18</a>\u001b[0m     \u001b[39m#line_numbers = [int(x) for x in linesplit]\u001b[39;00m\n\u001b[1;32m---> <a href='vscode-notebook-cell:/c%3A/Users/57947/Programmering/AdventOfCode/05/dag5.ipynb#X25sZmlsZQ%3D%3D?line=18'>19</a>\u001b[0m     line_numbers \u001b[39m=\u001b[39m linesplitter(line)\n\u001b[0;32m     <a href='vscode-notebook-cell:/c%3A/Users/57947/Programmering/AdventOfCode/05/dag5.ipynb#X25sZmlsZQ%3D%3D?line=19'>20</a>\u001b[0m     dest_ranges \u001b[39m=\u001b[39m \u001b[39mrange\u001b[39m(line_numbers[\u001b[39m0\u001b[39m],line_numbers[\u001b[39m0\u001b[39m]\u001b[39m+\u001b[39mline_numbers[\u001b[39m2\u001b[39m]\u001b[39m-\u001b[39m\u001b[39m1\u001b[39m)\n\u001b[0;32m     <a href='vscode-notebook-cell:/c%3A/Users/57947/Programmering/AdventOfCode/05/dag5.ipynb#X25sZmlsZQ%3D%3D?line=20'>21</a>\u001b[0m     src_ranges \u001b[39m=\u001b[39m \u001b[39mrange\u001b[39m(line_numbers[\u001b[39m1\u001b[39m],line_numbers[\u001b[39m1\u001b[39m]\u001b[39m+\u001b[39mline_numbers[\u001b[39m2\u001b[39m]\u001b[39m-\u001b[39m\u001b[39m1\u001b[39m)\n",
      "File \u001b[1;32m~\\AppData\\Local\\Packages\\PythonSoftwareFoundation.Python.3.11_qbz5n2kfra8p0\\LocalCache\\local-packages\\Python311\\site-packages\\numba\\core\\dispatcher.py:468\u001b[0m, in \u001b[0;36m_DispatcherBase._compile_for_args\u001b[1;34m(self, *args, **kws)\u001b[0m\n\u001b[0;32m    464\u001b[0m         msg \u001b[39m=\u001b[39m (\u001b[39mf\u001b[39m\u001b[39m\"\u001b[39m\u001b[39m{\u001b[39;00m\u001b[39mstr\u001b[39m(e)\u001b[39m.\u001b[39mrstrip()\u001b[39m}\u001b[39;00m\u001b[39m \u001b[39m\u001b[39m\\n\u001b[39;00m\u001b[39m\\n\u001b[39;00m\u001b[39mThis error may have been caused \u001b[39m\u001b[39m\"\u001b[39m\n\u001b[0;32m    465\u001b[0m                \u001b[39mf\u001b[39m\u001b[39m\"\u001b[39m\u001b[39mby the following argument(s):\u001b[39m\u001b[39m\\n\u001b[39;00m\u001b[39m{\u001b[39;00margs_str\u001b[39m}\u001b[39;00m\u001b[39m\\n\u001b[39;00m\u001b[39m\"\u001b[39m)\n\u001b[0;32m    466\u001b[0m         e\u001b[39m.\u001b[39mpatch_message(msg)\n\u001b[1;32m--> 468\u001b[0m     error_rewrite(e, \u001b[39m'\u001b[39;49m\u001b[39mtyping\u001b[39;49m\u001b[39m'\u001b[39;49m)\n\u001b[0;32m    469\u001b[0m \u001b[39mexcept\u001b[39;00m errors\u001b[39m.\u001b[39mUnsupportedError \u001b[39mas\u001b[39;00m e:\n\u001b[0;32m    470\u001b[0m     \u001b[39m# Something unsupported is present in the user code, add help info\u001b[39;00m\n\u001b[0;32m    471\u001b[0m     error_rewrite(e, \u001b[39m'\u001b[39m\u001b[39munsupported_error\u001b[39m\u001b[39m'\u001b[39m)\n",
      "File \u001b[1;32m~\\AppData\\Local\\Packages\\PythonSoftwareFoundation.Python.3.11_qbz5n2kfra8p0\\LocalCache\\local-packages\\Python311\\site-packages\\numba\\core\\dispatcher.py:409\u001b[0m, in \u001b[0;36m_DispatcherBase._compile_for_args.<locals>.error_rewrite\u001b[1;34m(e, issue_type)\u001b[0m\n\u001b[0;32m    407\u001b[0m     \u001b[39mraise\u001b[39;00m e\n\u001b[0;32m    408\u001b[0m \u001b[39melse\u001b[39;00m:\n\u001b[1;32m--> 409\u001b[0m     \u001b[39mraise\u001b[39;00m e\u001b[39m.\u001b[39mwith_traceback(\u001b[39mNone\u001b[39;00m)\n",
      "\u001b[1;31mTypingError\u001b[0m: Failed in nopython mode pipeline (step: nopython frontend)\n\u001b[1m\u001b[1m\u001b[1mNo implementation of function Function(<class 'int'>) found for signature:\n \n >>> int(unicode_type)\n \nThere are 4 candidate implementations:\n\u001b[1m  - Of which 4 did not match due to:\n  Overload of function 'int': File: <numerous>: Line N/A.\n    With argument(s): '(unicode_type)':\u001b[0m\n\u001b[1m   No match.\u001b[0m\n\u001b[0m\n\u001b[0m\u001b[1mDuring: resolving callee type: Function(<class 'int'>)\u001b[0m\n\u001b[0m\u001b[1mDuring: typing of call at C:\\Users\\57947\\AppData\\Local\\Temp\\ipykernel_24616\\3872698577.py (5)\n\u001b[0m\n\u001b[1m\nFile \"..\\..\\..\\AppData\\Local\\Temp\\ipykernel_24616\\3872698577.py\", line 5:\u001b[0m\n\u001b[1m<source missing, REPL/exec in use?>\u001b[0m\n"
     ]
    }
   ],
   "source": [
    "%load_ext line_profiler\n",
    "%lprun -f search_in_map3 search_in_map3(lines,0,linestarts,seed)"
   ]
  },
  {
   "cell_type": "code",
   "execution_count": 21,
   "metadata": {},
   "outputs": [
    {
     "ename": "TypingError",
     "evalue": "Failed in nopython mode pipeline (step: nopython frontend)\n\u001b[1m\u001b[1m\u001b[1mNo implementation of function Function(<class 'int'>) found for signature:\n \n >>> int(unicode_type)\n \nThere are 4 candidate implementations:\n\u001b[1m    - Of which 4 did not match due to:\n    Overload of function 'int': File: <numerous>: Line N/A.\n      With argument(s): '(unicode_type)':\u001b[0m\n\u001b[1m     No match.\u001b[0m\n\u001b[0m\n\u001b[0m\u001b[1mDuring: resolving callee type: Function(<class 'int'>)\u001b[0m\n\u001b[0m\u001b[1mDuring: typing of call at C:\\Users\\57947\\AppData\\Local\\Temp\\ipykernel_24616\\3872698577.py (5)\n\u001b[0m\n\u001b[1m\nFile \"..\\..\\..\\AppData\\Local\\Temp\\ipykernel_24616\\3872698577.py\", line 5:\u001b[0m\n\u001b[1m<source missing, REPL/exec in use?>\u001b[0m\n",
     "output_type": "error",
     "traceback": [
      "\u001b[1;31m---------------------------------------------------------------------------\u001b[0m",
      "\u001b[1;31mTypingError\u001b[0m                               Traceback (most recent call last)",
      "\u001b[1;32mc:\\Users\\57947\\Programmering\\AdventOfCode\\05\\dag5.ipynb Cell 10\u001b[0m line \u001b[0;36m4\n\u001b[0;32m      <a href='vscode-notebook-cell:/c%3A/Users/57947/Programmering/AdventOfCode/05/dag5.ipynb#X21sZmlsZQ%3D%3D?line=1'>2</a>\u001b[0m \u001b[39mfor\u001b[39;00m seed \u001b[39min\u001b[39;00m seeds[\u001b[39m1\u001b[39m:\u001b[39m30\u001b[39m]:\n\u001b[0;32m      <a href='vscode-notebook-cell:/c%3A/Users/57947/Programmering/AdventOfCode/05/dag5.ipynb#X21sZmlsZQ%3D%3D?line=2'>3</a>\u001b[0m     seed \u001b[39m=\u001b[39m \u001b[39mint\u001b[39m(seed)\n\u001b[1;32m----> <a href='vscode-notebook-cell:/c%3A/Users/57947/Programmering/AdventOfCode/05/dag5.ipynb#X21sZmlsZQ%3D%3D?line=3'>4</a>\u001b[0m     result1 \u001b[39m=\u001b[39m search_in_map3(lines,\u001b[39m0\u001b[39;49m,linestarts,seed)\n\u001b[0;32m      <a href='vscode-notebook-cell:/c%3A/Users/57947/Programmering/AdventOfCode/05/dag5.ipynb#X21sZmlsZQ%3D%3D?line=4'>5</a>\u001b[0m     \u001b[39m#print(result1[0])\u001b[39;00m\n\u001b[0;32m      <a href='vscode-notebook-cell:/c%3A/Users/57947/Programmering/AdventOfCode/05/dag5.ipynb#X21sZmlsZQ%3D%3D?line=5'>6</a>\u001b[0m     result2 \u001b[39m=\u001b[39m search_in_map3(lines,\u001b[39m1\u001b[39m,linestarts,result1[\u001b[39m0\u001b[39m])\n",
      "\u001b[1;32mc:\\Users\\57947\\Programmering\\AdventOfCode\\05\\dag5.ipynb Cell 10\u001b[0m line \u001b[0;36m1\n\u001b[0;32m     <a href='vscode-notebook-cell:/c%3A/Users/57947/Programmering/AdventOfCode/05/dag5.ipynb#X21sZmlsZQ%3D%3D?line=11'>12</a>\u001b[0m result \u001b[39m=\u001b[39m find_no\n\u001b[0;32m     <a href='vscode-notebook-cell:/c%3A/Users/57947/Programmering/AdventOfCode/05/dag5.ipynb#X21sZmlsZQ%3D%3D?line=15'>16</a>\u001b[0m \u001b[39mfor\u001b[39;00m line \u001b[39min\u001b[39;00m lines[this_line:next_line]:\n\u001b[0;32m     <a href='vscode-notebook-cell:/c%3A/Users/57947/Programmering/AdventOfCode/05/dag5.ipynb#X21sZmlsZQ%3D%3D?line=16'>17</a>\u001b[0m     \u001b[39m#linesplit = line.split()\u001b[39;00m\n\u001b[0;32m     <a href='vscode-notebook-cell:/c%3A/Users/57947/Programmering/AdventOfCode/05/dag5.ipynb#X21sZmlsZQ%3D%3D?line=17'>18</a>\u001b[0m     \u001b[39m#line_numbers = [int(x) for x in linesplit]\u001b[39;00m\n\u001b[1;32m---> <a href='vscode-notebook-cell:/c%3A/Users/57947/Programmering/AdventOfCode/05/dag5.ipynb#X21sZmlsZQ%3D%3D?line=18'>19</a>\u001b[0m     line_numbers \u001b[39m=\u001b[39m linesplitter(line)\n\u001b[0;32m     <a href='vscode-notebook-cell:/c%3A/Users/57947/Programmering/AdventOfCode/05/dag5.ipynb#X21sZmlsZQ%3D%3D?line=19'>20</a>\u001b[0m     dest_ranges \u001b[39m=\u001b[39m \u001b[39mrange\u001b[39m(line_numbers[\u001b[39m0\u001b[39m],line_numbers[\u001b[39m0\u001b[39m]\u001b[39m+\u001b[39mline_numbers[\u001b[39m2\u001b[39m]\u001b[39m-\u001b[39m\u001b[39m1\u001b[39m)\n\u001b[0;32m     <a href='vscode-notebook-cell:/c%3A/Users/57947/Programmering/AdventOfCode/05/dag5.ipynb#X21sZmlsZQ%3D%3D?line=20'>21</a>\u001b[0m     src_ranges \u001b[39m=\u001b[39m \u001b[39mrange\u001b[39m(line_numbers[\u001b[39m1\u001b[39m],line_numbers[\u001b[39m1\u001b[39m]\u001b[39m+\u001b[39mline_numbers[\u001b[39m2\u001b[39m]\u001b[39m-\u001b[39m\u001b[39m1\u001b[39m)\n",
      "File \u001b[1;32m~\\AppData\\Local\\Packages\\PythonSoftwareFoundation.Python.3.11_qbz5n2kfra8p0\\LocalCache\\local-packages\\Python311\\site-packages\\numba\\core\\dispatcher.py:468\u001b[0m, in \u001b[0;36m_DispatcherBase._compile_for_args\u001b[1;34m(self, *args, **kws)\u001b[0m\n\u001b[0;32m    464\u001b[0m         msg \u001b[39m=\u001b[39m (\u001b[39mf\u001b[39m\u001b[39m\"\u001b[39m\u001b[39m{\u001b[39;00m\u001b[39mstr\u001b[39m(e)\u001b[39m.\u001b[39mrstrip()\u001b[39m}\u001b[39;00m\u001b[39m \u001b[39m\u001b[39m\\n\u001b[39;00m\u001b[39m\\n\u001b[39;00m\u001b[39mThis error may have been caused \u001b[39m\u001b[39m\"\u001b[39m\n\u001b[0;32m    465\u001b[0m                \u001b[39mf\u001b[39m\u001b[39m\"\u001b[39m\u001b[39mby the following argument(s):\u001b[39m\u001b[39m\\n\u001b[39;00m\u001b[39m{\u001b[39;00margs_str\u001b[39m}\u001b[39;00m\u001b[39m\\n\u001b[39;00m\u001b[39m\"\u001b[39m)\n\u001b[0;32m    466\u001b[0m         e\u001b[39m.\u001b[39mpatch_message(msg)\n\u001b[1;32m--> 468\u001b[0m     error_rewrite(e, \u001b[39m'\u001b[39;49m\u001b[39mtyping\u001b[39;49m\u001b[39m'\u001b[39;49m)\n\u001b[0;32m    469\u001b[0m \u001b[39mexcept\u001b[39;00m errors\u001b[39m.\u001b[39mUnsupportedError \u001b[39mas\u001b[39;00m e:\n\u001b[0;32m    470\u001b[0m     \u001b[39m# Something unsupported is present in the user code, add help info\u001b[39;00m\n\u001b[0;32m    471\u001b[0m     error_rewrite(e, \u001b[39m'\u001b[39m\u001b[39munsupported_error\u001b[39m\u001b[39m'\u001b[39m)\n",
      "File \u001b[1;32m~\\AppData\\Local\\Packages\\PythonSoftwareFoundation.Python.3.11_qbz5n2kfra8p0\\LocalCache\\local-packages\\Python311\\site-packages\\numba\\core\\dispatcher.py:409\u001b[0m, in \u001b[0;36m_DispatcherBase._compile_for_args.<locals>.error_rewrite\u001b[1;34m(e, issue_type)\u001b[0m\n\u001b[0;32m    407\u001b[0m     \u001b[39mraise\u001b[39;00m e\n\u001b[0;32m    408\u001b[0m \u001b[39melse\u001b[39;00m:\n\u001b[1;32m--> 409\u001b[0m     \u001b[39mraise\u001b[39;00m e\u001b[39m.\u001b[39mwith_traceback(\u001b[39mNone\u001b[39;00m)\n",
      "\u001b[1;31mTypingError\u001b[0m: Failed in nopython mode pipeline (step: nopython frontend)\n\u001b[1m\u001b[1m\u001b[1mNo implementation of function Function(<class 'int'>) found for signature:\n \n >>> int(unicode_type)\n \nThere are 4 candidate implementations:\n\u001b[1m    - Of which 4 did not match due to:\n    Overload of function 'int': File: <numerous>: Line N/A.\n      With argument(s): '(unicode_type)':\u001b[0m\n\u001b[1m     No match.\u001b[0m\n\u001b[0m\n\u001b[0m\u001b[1mDuring: resolving callee type: Function(<class 'int'>)\u001b[0m\n\u001b[0m\u001b[1mDuring: typing of call at C:\\Users\\57947\\AppData\\Local\\Temp\\ipykernel_24616\\3872698577.py (5)\n\u001b[0m\n\u001b[1m\nFile \"..\\..\\..\\AppData\\Local\\Temp\\ipykernel_24616\\3872698577.py\", line 5:\u001b[0m\n\u001b[1m<source missing, REPL/exec in use?>\u001b[0m\n"
     ]
    }
   ],
   "source": [
    "locations = []\n",
    "for seed in seeds[1:30]:\n",
    "    seed = int(seed)\n",
    "    result1 = search_in_map3(lines,0,linestarts,seed)\n",
    "    #print(result1[0])\n",
    "    result2 = search_in_map3(lines,1,linestarts,result1[0])\n",
    "    #print(result2[0])\n",
    "    result3 = search_in_map3(lines,2,linestarts,result2[0])\n",
    "    #print(result3[0])\n",
    "    result4 = search_in_map3(lines,3,linestarts,result3[0])\n",
    "    #print(result4[0])\n",
    "    result5 = search_in_map3(lines,4,linestarts,result4[0])\n",
    "    #print(result5[0])\n",
    "    result6 = search_in_map3(lines,5,linestarts,result5[0])\n",
    "    #print(result6[0])\n",
    "    result7 = search_in_map3(lines,6,linestarts,result6[0])\n",
    "    # print(result1[1] +\" \"+ str(result1[0]))\n",
    "    # print(result2[1] +\" \"+ str(result2[0]))\n",
    "    # print(result3[1] +\" \"+ str(result3[0]))\n",
    "    # print(result4[1] +\" \"+ str(result4[0]))\n",
    "    # print(result5[1] +\" \"+ str(result5[0]))\n",
    "    # print(result6[1] +\" \"+ str(result6[0]))\n",
    "    # print(result7[1] +\" \"+ str(result7[0]))\n",
    "    print(\"for seed: \" + str(seed) + \" location: \" + str(result7[0]))\n",
    "    locations.append(result7[0])"
   ]
  },
  {
   "cell_type": "code",
   "execution_count": 84,
   "metadata": {},
   "outputs": [
    {
     "name": "stdout",
     "output_type": "stream",
     "text": [
      "719150722\n"
     ]
    },
    {
     "ename": "KeyboardInterrupt",
     "evalue": "",
     "output_type": "error",
     "traceback": [
      "\u001b[1;31m---------------------------------------------------------------------------\u001b[0m",
      "\u001b[1;31mKeyboardInterrupt\u001b[0m                         Traceback (most recent call last)",
      "\u001b[1;32mc:\\Users\\57947\\Programmering\\AdventOfCode\\05\\dag5.ipynb Cell 7\u001b[0m line \u001b[0;36m1\n\u001b[0;32m     <a href='vscode-notebook-cell:/c%3A/Users/57947/Programmering/AdventOfCode/05/dag5.ipynb#W5sZmlsZQ%3D%3D?line=11'>12</a>\u001b[0m result3 \u001b[39m=\u001b[39m search_in_map2(lines,\u001b[39m2\u001b[39m,linestarts,result2[\u001b[39m0\u001b[39m])\n\u001b[0;32m     <a href='vscode-notebook-cell:/c%3A/Users/57947/Programmering/AdventOfCode/05/dag5.ipynb#W5sZmlsZQ%3D%3D?line=12'>13</a>\u001b[0m \u001b[39m#print(result3[0])\u001b[39;00m\n\u001b[1;32m---> <a href='vscode-notebook-cell:/c%3A/Users/57947/Programmering/AdventOfCode/05/dag5.ipynb#W5sZmlsZQ%3D%3D?line=13'>14</a>\u001b[0m result4 \u001b[39m=\u001b[39m search_in_map2(lines,\u001b[39m3\u001b[39;49m,linestarts,result3[\u001b[39m0\u001b[39;49m])\n\u001b[0;32m     <a href='vscode-notebook-cell:/c%3A/Users/57947/Programmering/AdventOfCode/05/dag5.ipynb#W5sZmlsZQ%3D%3D?line=14'>15</a>\u001b[0m \u001b[39m#print(result4[0])\u001b[39;00m\n\u001b[0;32m     <a href='vscode-notebook-cell:/c%3A/Users/57947/Programmering/AdventOfCode/05/dag5.ipynb#W5sZmlsZQ%3D%3D?line=15'>16</a>\u001b[0m result5 \u001b[39m=\u001b[39m search_in_map2(lines,\u001b[39m4\u001b[39m,linestarts,result4[\u001b[39m0\u001b[39m])\n",
      "\u001b[1;32mc:\\Users\\57947\\Programmering\\AdventOfCode\\05\\dag5.ipynb Cell 7\u001b[0m line \u001b[0;36m2\n\u001b[0;32m     <a href='vscode-notebook-cell:/c%3A/Users/57947/Programmering/AdventOfCode/05/dag5.ipynb#W5sZmlsZQ%3D%3D?line=16'>17</a>\u001b[0m \u001b[39m# dest_ranges.append(np.arange(line_numbers[0],line_numbers[0]+line_numbers[2]))\u001b[39;00m\n\u001b[0;32m     <a href='vscode-notebook-cell:/c%3A/Users/57947/Programmering/AdventOfCode/05/dag5.ipynb#W5sZmlsZQ%3D%3D?line=17'>18</a>\u001b[0m \u001b[39m# src_ranges.append(np.arange(line_numbers[1],line_numbers[1]+line_numbers[2]))\u001b[39;00m\n\u001b[0;32m     <a href='vscode-notebook-cell:/c%3A/Users/57947/Programmering/AdventOfCode/05/dag5.ipynb#W5sZmlsZQ%3D%3D?line=18'>19</a>\u001b[0m \u001b[39m# dest_ranges.append(np.arange(line_numbers[0],line_numbers[0]+line_numbers[2]))\u001b[39;00m\n\u001b[0;32m     <a href='vscode-notebook-cell:/c%3A/Users/57947/Programmering/AdventOfCode/05/dag5.ipynb#W5sZmlsZQ%3D%3D?line=19'>20</a>\u001b[0m \u001b[39m# src_ranges.append(np.arange(line_numbers[1],line_numbers[1]+line_numbers[2]))\u001b[39;00m\n\u001b[0;32m     <a href='vscode-notebook-cell:/c%3A/Users/57947/Programmering/AdventOfCode/05/dag5.ipynb#W5sZmlsZQ%3D%3D?line=20'>21</a>\u001b[0m dest_ranges \u001b[39m=\u001b[39m \u001b[39mrange\u001b[39m(line_numbers[\u001b[39m0\u001b[39m],line_numbers[\u001b[39m0\u001b[39m]\u001b[39m+\u001b[39mline_numbers[\u001b[39m2\u001b[39m]\u001b[39m-\u001b[39m\u001b[39m1\u001b[39m)\n\u001b[1;32m---> <a href='vscode-notebook-cell:/c%3A/Users/57947/Programmering/AdventOfCode/05/dag5.ipynb#W5sZmlsZQ%3D%3D?line=21'>22</a>\u001b[0m src_ranges \u001b[39m=\u001b[39m \u001b[39mrange\u001b[39m(line_numbers[\u001b[39m1\u001b[39m],line_numbers[\u001b[39m1\u001b[39m]\u001b[39m+\u001b[39mline_numbers[\u001b[39m2\u001b[39m]\u001b[39m-\u001b[39m\u001b[39m1\u001b[39m)\n\u001b[0;32m     <a href='vscode-notebook-cell:/c%3A/Users/57947/Programmering/AdventOfCode/05/dag5.ipynb#W5sZmlsZQ%3D%3D?line=22'>23</a>\u001b[0m \u001b[39m#res = {src_ranges[i]: dest_ranges[i] for i in range(len(src_ranges))}\u001b[39;00m\n\u001b[0;32m     <a href='vscode-notebook-cell:/c%3A/Users/57947/Programmering/AdventOfCode/05/dag5.ipynb#W5sZmlsZQ%3D%3D?line=23'>24</a>\u001b[0m \u001b[39mif\u001b[39;00m find_no \u001b[39min\u001b[39;00m src_ranges:\n",
      "\u001b[1;31mKeyboardInterrupt\u001b[0m: "
     ]
    }
   ],
   "source": [
    "min_location = 100000000000000000\n",
    "i = 0\n",
    "LOG_EVERY_N = 1000000\n",
    "for n in range(1,22,2):\n",
    "    for seed in range(int(seeds[n]),int(seeds[n])+int(seeds[n+1])):\n",
    "        seed = int(seed)\n",
    "        i+=1\n",
    "        result1 = search_in_map2(lines,0,linestarts,seed)\n",
    "        #print(result1[0])\n",
    "        result2 = search_in_map2(lines,1,linestarts,result1[0])\n",
    "        #print(result2[0])\n",
    "        result3 = search_in_map2(lines,2,linestarts,result2[0])\n",
    "        #print(result3[0])\n",
    "        result4 = search_in_map2(lines,3,linestarts,result3[0])\n",
    "        #print(result4[0])\n",
    "        result5 = search_in_map2(lines,4,linestarts,result4[0])\n",
    "        #print(result5[0])\n",
    "        result6 = search_in_map2(lines,5,linestarts,result5[0])\n",
    "        #print(result6[0])\n",
    "        result7 = search_in_map2(lines,6,linestarts,result6[0])\n",
    "        # print(result1[1] +\" \"+ str(result1[0]))\n",
    "        # print(result2[1] +\" \"+ str(result2[0]))\n",
    "        # print(result3[1] +\" \"+ str(result3[0]))\n",
    "        # print(result4[1] +\" \"+ str(result4[0]))\n",
    "        # print(result5[1] +\" \"+ str(result5[0]))\n",
    "        # print(result6[1] +\" \"+ str(result6[0]))\n",
    "        # print(result7[1] +\" \"+ str(result7[0]))\n",
    "        # print(\"for seed: \" + str(seed) + \" location: \" + str(result7[0]))\n",
    "        if min_location > result7[0]:\n",
    "            min_location = result7[0]\n",
    "            print(min_location)\n",
    "        if (i % LOG_EVERY_N) == 0:\n",
    "            print(i)\n",
    "    "
   ]
  },
  {
   "cell_type": "code",
   "execution_count": null,
   "metadata": {},
   "outputs": [],
   "source": [
    "def multiprocess():\n",
    "    for seed in range(int(seeds[n]),int(seeds[n])+int(seeds[n+1])):\n",
    "        seed = int(seed)\n",
    "        i+=1\n",
    "        result1 = search_in_map2(lines,0,linestarts,seed)\n",
    "        #print(result1[0])\n",
    "        result2 = search_in_map2(lines,1,linestarts,result1[0])\n",
    "        #print(result2[0])\n",
    "        result3 = search_in_map2(lines,2,linestarts,result2[0])\n",
    "        #print(result3[0])\n",
    "        result4 = search_in_map2(lines,3,linestarts,result3[0])\n",
    "        #print(result4[0])\n",
    "        result5 = search_in_map2(lines,4,linestarts,result4[0])\n",
    "        #print(result5[0])\n",
    "        result6 = search_in_map2(lines,5,linestarts,result5[0])\n",
    "        #print(result6[0])\n",
    "        result7 = search_in_map2(lines,6,linestarts,result6[0])\n",
    "        # print(result1[1] +\" \"+ str(result1[0]))\n",
    "        # print(result2[1] +\" \"+ str(result2[0]))\n",
    "        # print(result3[1] +\" \"+ str(result3[0]))\n",
    "        # print(result4[1] +\" \"+ str(result4[0]))\n",
    "        # print(result5[1] +\" \"+ str(result5[0]))\n",
    "        # print(result6[1] +\" \"+ str(result6[0]))\n",
    "        # print(result7[1] +\" \"+ str(result7[0]))\n",
    "        # print(\"for seed: \" + str(seed) + \" location: \" + str(result7[0]))\n",
    "        if min_location > result7[0]:\n",
    "            min_location = result7[0]\n",
    "            print(min_location)"
   ]
  },
  {
   "cell_type": "code",
   "execution_count": 99,
   "metadata": {},
   "outputs": [
    {
     "data": {
      "text/plain": [
       "1034516675"
      ]
     },
     "execution_count": 99,
     "metadata": {},
     "output_type": "execute_result"
    }
   ],
   "source": [
    "n=3\n",
    "len(range(int(seeds[n]),int(seeds[n])+int(seeds[n+1])))"
   ]
  },
  {
   "cell_type": "code",
   "execution_count": 42,
   "metadata": {},
   "outputs": [],
   "source": [
    "from multiprocessing import Pool"
   ]
  },
  {
   "cell_type": "code",
   "execution_count": 44,
   "metadata": {},
   "outputs": [],
   "source": [
    "def f(inputs: int):\n",
    "    print(inputs)\n",
    "with Pool(20) as p:\n",
    "    print(p.map(f, [1, 2, 3]))"
   ]
  },
  {
   "cell_type": "code",
   "execution_count": 117,
   "metadata": {},
   "outputs": [],
   "source": []
  },
  {
   "cell_type": "code",
   "execution_count": null,
   "metadata": {},
   "outputs": [],
   "source": []
  }
 ],
 "metadata": {
  "kernelspec": {
   "display_name": "Python 3",
   "language": "python",
   "name": "python3"
  },
  "language_info": {
   "codemirror_mode": {
    "name": "ipython",
    "version": 3
   },
   "file_extension": ".py",
   "mimetype": "text/x-python",
   "name": "python",
   "nbconvert_exporter": "python",
   "pygments_lexer": "ipython3",
   "version": "3.11.6"
  }
 },
 "nbformat": 4,
 "nbformat_minor": 2
}
