{
 "cells": [
  {
   "cell_type": "code",
   "execution_count": 1,
   "metadata": {},
   "outputs": [],
   "source": [
    "import pandas as pd\n",
    "from collections import defaultdict"
   ]
  },
  {
   "cell_type": "code",
   "execution_count": 6,
   "metadata": {},
   "outputs": [],
   "source": [
    "with open('inputSample.txt') as f:\n",
    "    lines = [line.rstrip() for line in f]"
   ]
  },
  {
   "cell_type": "code",
   "execution_count": 3,
   "metadata": {},
   "outputs": [],
   "source": [
    "with open('input.txt') as f:\n",
    "    lines = [line.rstrip() for line in f]"
   ]
  },
  {
   "cell_type": "code",
   "execution_count": 7,
   "metadata": {},
   "outputs": [
    {
     "name": "stdout",
     "output_type": "stream",
     "text": [
      "13\n",
      "30\n"
     ]
    }
   ],
   "source": [
    "total_prize = []\n",
    "my_numbers_l = []\n",
    "winning_numbers_l = []\n",
    "prize_count_l = []\n",
    "card_counts = defaultdict(int)\n",
    "i = 0\n",
    "for line in lines:\n",
    "    prize = 0\n",
    "    card_counts[i] += 1\n",
    "    my_card, winning_numbers = line.split(\"|\")\n",
    "    card_id, my_numbers = my_card.split(\":\")\n",
    "    my_numbers = [int(x) for x in my_numbers.split()]\n",
    "    winning_numbers = [int(x) for x in winning_numbers.split()]\n",
    "    my_numbers_l.append(my_numbers)\n",
    "    winning_numbers_l.append(winning_numbers)\n",
    "    prize_count = 0\n",
    "    for number in my_numbers:\n",
    "        for win_number in winning_numbers:\n",
    "            if number == win_number:\n",
    "                prize_count += 1\n",
    "    if prize_count > 0:\n",
    "        prize = 2**(prize_count-1)\n",
    "    prize_count_l.append(prize_count)\n",
    "    total_prize.append(prize)\n",
    "    for j in range(prize_count):\n",
    "        card_counts[i+1+j] += card_counts[i]\n",
    "    i += 1\n",
    "print(sum(total_prize))\n",
    "df = pd.DataFrame({\n",
    "    \"my_numbers\": my_numbers_l,\n",
    "    \"winning_numbers\": winning_numbers_l,\n",
    "    \"count\": prize_count_l,\n",
    "    \"prize\": total_prize,\n",
    "    \"card_counts\": card_counts.values()\n",
    "})\n",
    "print(sum(card_counts.values()))"
   ]
  },
  {
   "cell_type": "code",
   "execution_count": 5,
   "metadata": {},
   "outputs": [
    {
     "data": {
      "text/plain": [
       "7172"
      ]
     },
     "execution_count": 5,
     "metadata": {},
     "output_type": "execute_result"
    }
   ],
   "source": [
    "counter = range(len(df.index))\n",
    "counts = df[\"count\"].values\n",
    "additional_cards = []\n",
    "for i in counter:\n",
    "    additional_cards.append(0)\n",
    "n = 0\n",
    "m = 0\n",
    "for n in counter:\n",
    "    wins = counts[n]\n",
    "    for m in range(wins):\n",
    "        try:\n",
    "            counts[n+m+1] += 1\n",
    "        except:\n",
    "            p=1\n",
    "\n",
    "sum(counts)"
   ]
  },
  {
   "cell_type": "code",
   "execution_count": null,
   "metadata": {},
   "outputs": [],
   "source": []
  },
  {
   "cell_type": "code",
   "execution_count": null,
   "metadata": {},
   "outputs": [],
   "source": []
  }
 ],
 "metadata": {
  "kernelspec": {
   "display_name": "Python 3",
   "language": "python",
   "name": "python3"
  },
  "language_info": {
   "codemirror_mode": {
    "name": "ipython",
    "version": 3
   },
   "file_extension": ".py",
   "mimetype": "text/x-python",
   "name": "python",
   "nbconvert_exporter": "python",
   "pygments_lexer": "ipython3",
   "version": "3.11.6"
  }
 },
 "nbformat": 4,
 "nbformat_minor": 2
}
