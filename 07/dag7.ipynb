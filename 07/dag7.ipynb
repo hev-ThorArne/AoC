{
 "cells": [
  {
   "cell_type": "code",
   "execution_count": 1,
   "metadata": {},
   "outputs": [],
   "source": [
    "import pandas as pd\n",
    "import itertools"
   ]
  },
  {
   "cell_type": "code",
   "execution_count": 2,
   "metadata": {},
   "outputs": [],
   "source": [
    "with open('input.txt') as f:\n",
    "    lines = [line.rstrip() for line in f]"
   ]
  },
  {
   "cell_type": "code",
   "execution_count": 3,
   "metadata": {},
   "outputs": [],
   "source": [
    "card_values = {\"A\":13,\"K\":12, \"Q\":11, \"J\":10, \"T\":9, \"9\":8, \"8\":7, \"7\":6, \"6\":5, \"5\":4, \"4\":3, \"3\":2, \"2\":1}\n"
   ]
  },
  {
   "cell_type": "code",
   "execution_count": 4,
   "metadata": {},
   "outputs": [],
   "source": [
    "df = pd.read_csv(\"input.txt\",delimiter=\" \")"
   ]
  },
  {
   "cell_type": "code",
   "execution_count": 5,
   "metadata": {},
   "outputs": [],
   "source": [
    "def string_function(string: str) -> list:\n",
    "    string = str(string)\n",
    "    letterset = set(string)\n",
    "    count_letters = []\n",
    "    value = []\n",
    "    for n in range(len(letterset)):\n",
    "        count_letters.append(string.count(list(letterset)[n]))\n",
    "    for letter in string:\n",
    "        value.append(card_values[letter])\n",
    "\n",
    "    count_letters = sorted(count_letters)\n",
    "\n",
    "    return count_letters,value\n"
   ]
  },
  {
   "cell_type": "code",
   "execution_count": 6,
   "metadata": {},
   "outputs": [
    {
     "data": {
      "text/plain": [
       "([1, 1, 1, 2], [2, 1, 9, 2, 12])"
      ]
     },
     "execution_count": 6,
     "metadata": {},
     "output_type": "execute_result"
    }
   ],
   "source": [
    "string_function(\"32T3K\")"
   ]
  },
  {
   "cell_type": "code",
   "execution_count": 7,
   "metadata": {},
   "outputs": [],
   "source": [
    "def ranking_function(list: list) -> int:\n",
    "    # if max(list) == 5: # Five of a kind, where all five cards have the same label: AAAAA\n",
    "    #     rank = 7\n",
    "    # elif max(list) == 4: # Four of a kind, where four cards have the same label and one card has a different label: AA8AA\n",
    "    #     rank = 6\n",
    "    # elif max(list) == 3 and min(list) == 2: # Full house, where three cards have the same label, and the remaining two cards share a different label: 23332\n",
    "    #     rank = 5\n",
    "    # elif max(list) == 3 and min (list) == 1: # Three of a kind, where three cards have the same label, and the remaining two cards are each different from any other card in the hand: TTT98\n",
    "    #     rank = 4\n",
    "    # elif list.count(2) == 2: # Two pair, where two cards share one label, two other cards share a second label, and the remaining card has a third label: 23432\n",
    "    #     rank = 3\n",
    "    # elif list.count(2) == 1: # One pair, where two cards share one label, and the other three cards have a different label from the pair and each other: A23A4\n",
    "    #     rank = 2\n",
    "    # else:\n",
    "    #     rank = 1\n",
    "\n",
    "    if list == [1,1,1,1,1]: # high card\n",
    "        rank = 1\n",
    "    elif list == [1,1,1,2]:\n",
    "        rank = 2\n",
    "    elif list == [1,2,2]:\n",
    "        rank = 3\n",
    "    elif list == [1,1,3]:\n",
    "        rank = 4\n",
    "    elif list == [2,3]:\n",
    "        rank = 5\n",
    "    elif list == [1,4]:\n",
    "        rank = 6\n",
    "    elif list == [5]:\n",
    "        rank = 7 # Five of a kind, where all five cards have the same label: AAAAA\n",
    "    else:\n",
    "        print(list)\n",
    "        rank = \"blæ\"\n",
    "\n",
    "\n",
    "    return rank\n",
    "    "
   ]
  },
  {
   "cell_type": "code",
   "execution_count": 8,
   "metadata": {},
   "outputs": [
    {
     "data": {
      "text/plain": [
       "1"
      ]
     },
     "execution_count": 8,
     "metadata": {},
     "output_type": "execute_result"
    }
   ],
   "source": [
    "testlist = string_function(\"23456\")[0]\n",
    "ranking_function(testlist)"
   ]
  },
  {
   "cell_type": "code",
   "execution_count": 9,
   "metadata": {},
   "outputs": [],
   "source": [
    "df = pd.read_csv(\"input.txt\",delimiter=\" \")\n",
    "rank_l = []\n",
    "count_letters_l = []\n",
    "value_l = []\n",
    "for index, row in df.iterrows():\n",
    "    cards = row[\"cards\"]\n",
    "    bid = row[\"bid\"]\n",
    "    count_letters, value = string_function(cards)\n",
    "    rank = ranking_function(count_letters)\n",
    "    rank_l.append(rank)\n",
    "    count_letters_l.append(count_letters)\n",
    "    value_l.append(value)\n",
    "df2 = pd.DataFrame({\n",
    "    \"cards\": df[\"cards\"],\n",
    "    \"bid\": df[\"bid\"],\n",
    "    \"count_letters\": count_letters_l,\n",
    "    \"rank\": rank_l,\n",
    "    \"value\": value_l,\n",
    "})"
   ]
  },
  {
   "cell_type": "code",
   "execution_count": null,
   "metadata": {},
   "outputs": [],
   "source": []
  },
  {
   "cell_type": "code",
   "execution_count": 10,
   "metadata": {},
   "outputs": [],
   "source": [
    "# unique_ranks_so_far = list(set(df2[\"rank\"]))\n",
    "# for r in unique_ranks_so_far:\n",
    "#     df3 = df2[df2[\"rank\"] == r]\n",
    "#     current_indexx = list(df3.index)\n",
    "#     value0 = []\n",
    "#     value1 = []\n",
    "#     value2 = []\n",
    "#     value3 = []\n",
    "#     value4 = []\n",
    "#     for index, row in df3.iterrows():\n",
    "#         value0.append(row[\"value\"][0])\n",
    "#         value1.append(row[\"value\"][1])\n",
    "#         value2.append(row[\"value\"][2])\n",
    "#         value3.append(row[\"value\"][3])\n",
    "#         value4.append(row[\"value\"][4])\n",
    "#         df3[index]\n",
    "    \n",
    "#     for index, row in df3.iterrows():\n",
    "#         p=1\n",
    "#     print(df3)"
   ]
  },
  {
   "cell_type": "code",
   "execution_count": 11,
   "metadata": {},
   "outputs": [],
   "source": [
    "for index, row in df2.iterrows():\n",
    "    df2.at[index, \"value0\"] = row[\"value\"][0]\n",
    "    df2.at[index, \"value1\"] = row[\"value\"][1]\n",
    "    df2.at[index, \"value2\"] = row[\"value\"][2]\n",
    "    df2.at[index, \"value3\"] = row[\"value\"][3]\n",
    "    df2.at[index, \"value4\"] = row[\"value\"][4]"
   ]
  },
  {
   "cell_type": "code",
   "execution_count": 12,
   "metadata": {},
   "outputs": [],
   "source": [
    "df2.sort_values(\"rank\", ascending=False, inplace=True)\n",
    "df2.sort_values(\"value0\", ascending=False, inplace=True)\n"
   ]
  },
  {
   "cell_type": "code",
   "execution_count": 13,
   "metadata": {},
   "outputs": [],
   "source": [
    "sorting_columns = [\"rank\", \"value0\", \"value1\", \"value2\", \"value3\", \"value4\"]\n",
    "# for column in sorting_columns:\n",
    "#     unique_ranks_so_far = list(set(df2[column]))\n",
    "#     df2[df2[column] == r].sort_values(column, ascending=False, inplace=True)\n"
   ]
  },
  {
   "cell_type": "code",
   "execution_count": 14,
   "metadata": {},
   "outputs": [],
   "source": [
    "df2.sort_values(sorting_columns, ascending=False, inplace=True)"
   ]
  },
  {
   "cell_type": "code",
   "execution_count": 15,
   "metadata": {},
   "outputs": [
    {
     "data": {
      "text/plain": [
       "250602641"
      ]
     },
     "execution_count": 15,
     "metadata": {},
     "output_type": "execute_result"
    }
   ],
   "source": [
    "i = len(df2)\n",
    "for index, row in df2.iterrows():\n",
    "    df2.at[index, \"place\"] = i\n",
    "    i -= 1\n",
    "df2[\"winnings\"] = df2[\"place\"] * df2[\"bid\"]\n",
    "#resultat første del\n",
    "int(sum(df2[\"winnings\"]))"
   ]
  },
  {
   "cell_type": "code",
   "execution_count": 16,
   "metadata": {},
   "outputs": [],
   "source": [
    "#start del 2\n",
    "card_values = {\"A\":13,\"K\":12, \"Q\":11, \"T\":10, \"9\":9, \"8\":8, \"7\":7, \"6\":6, \"5\":5, \"4\":4, \"3\":3, \"2\":2, \"J\":1}\n",
    "def string_function(string: str) -> list:\n",
    "    string = str(string)\n",
    "    letterset = set(string)\n",
    "    count_letters = []\n",
    "    value = []\n",
    "    for n in range(len(letterset)):\n",
    "        count_letters.append(string.count(list(letterset)[n]))\n",
    "    for letter in string:\n",
    "        value.append(card_values[letter])\n",
    "\n",
    "    count_letters = sorted(count_letters)\n",
    "\n",
    "    return count_letters,value"
   ]
  },
  {
   "cell_type": "code",
   "execution_count": 17,
   "metadata": {},
   "outputs": [],
   "source": [
    "def ranking_function_joker(list: list, cards: str) -> list:\n",
    "    number_of_jokers = cards.count(\"J\")\n",
    "    # if max(list) == 5: # Five of a kind, where all five cards have the same label: AAAAA\n",
    "    #     rank = 7\n",
    "    # elif max(list) == 4: # Four of a kind, where four cards have the same label and one card has a different label: AA8AA\n",
    "    #     rank = 6\n",
    "    # elif max(list) == 3 and min(list) == 2: # Full house, where three cards have the same label, and the remaining two cards share a different label: 23332\n",
    "    #     rank = 5\n",
    "    # elif max(list) == 3 and min (list) == 1: # Three of a kind, where three cards have the same label, and the remaining two cards are each different from any other card in the hand: TTT98\n",
    "    #     rank = 4\n",
    "    # elif list.count(2) == 2: # Two pair, where two cards share one label, two other cards share a second label, and the remaining card has a third label: 23432\n",
    "    #     rank = 3\n",
    "    # elif list.count(2) == 1: # One pair, where two cards share one label, and the other three cards have a different label from the pair and each other: A23A4\n",
    "    #     rank = 2\n",
    "    # else:\n",
    "    #     rank = 1\n",
    "\n",
    "    if list == [1,1,1,1,1]: # high card\n",
    "        rank = 1\n",
    "        name = \"high card\"\n",
    "        if number_of_jokers == 1:\n",
    "            rank = 2\n",
    "            name = \"one pair\"\n",
    "    elif list == [1,1,1,2]:\n",
    "        rank = 2\n",
    "        name = \"one pair\"\n",
    "        if number_of_jokers == 2:\n",
    "            rank = 4\n",
    "            name = \"three of a kind\"\n",
    "        elif number_of_jokers == 1:\n",
    "            rank = 4\n",
    "            name = \"three of a kind\"\n",
    "    elif list == [1,2,2]:\n",
    "        rank = 3\n",
    "        name = \"two pair\"\n",
    "        if number_of_jokers == 2:\n",
    "            rank = 6\n",
    "            name = \"four of a kind\"\n",
    "        elif number_of_jokers == 1:\n",
    "            rank = 5\n",
    "            name = \"full house\"\n",
    "    elif list == [1,1,3]:\n",
    "        rank = 4\n",
    "        name = \"three of a kind\"\n",
    "        if number_of_jokers == 3:\n",
    "            rank = 6\n",
    "            name = \"four of a kind\"\n",
    "        elif number_of_jokers == 1:\n",
    "            rank = 6\n",
    "            name = \"four of a kind\"\n",
    "    elif list == [2,3]:\n",
    "        rank = 5\n",
    "        name = \"full house\"\n",
    "        if number_of_jokers >= 2:\n",
    "            rank = 7 # Five of a kind, where all five cards have the same label: AAAAA\n",
    "            name = \"five of a kind\"\n",
    "    elif list == [1,4]:\n",
    "        rank = 6\n",
    "        name = \"four of a kind\"\n",
    "        if number_of_jokers >= 1:\n",
    "            rank = 7 # Five of a kind, where all five cards have the same label: AAAAA\n",
    "            name = \"five of a kind\"\n",
    "    elif list == [5]:\n",
    "        rank = 7 # Five of a kind, where all five cards have the same label: AAAAA\n",
    "        name = \"five of a kind\"\n",
    "    \n",
    "\n",
    "\n",
    "    return [rank, number_of_jokers, name]"
   ]
  },
  {
   "cell_type": "code",
   "execution_count": 18,
   "metadata": {},
   "outputs": [
    {
     "data": {
      "text/plain": [
       "[6, 1, 'four of a kind']"
      ]
     },
     "execution_count": 18,
     "metadata": {},
     "output_type": "execute_result"
    }
   ],
   "source": [
    "card = \"QQQJA\"\n",
    "testlist = string_function(card)[0]\n",
    "ranking_function_joker(testlist,card)"
   ]
  },
  {
   "cell_type": "code",
   "execution_count": 19,
   "metadata": {},
   "outputs": [],
   "source": [
    "df = pd.read_csv(\"input.txt\",delimiter=\" \")"
   ]
  },
  {
   "cell_type": "code",
   "execution_count": 20,
   "metadata": {},
   "outputs": [],
   "source": [
    "rank_l = []\n",
    "count_letters_l = []\n",
    "value_l = []\n",
    "jokers_max = 0\n",
    "jokers_l = []\n",
    "name_l = []\n",
    "for index, row in df.iterrows():\n",
    "    cards = row[\"cards\"]\n",
    "    bid = row[\"bid\"]\n",
    "    count_letters, value = string_function(cards)\n",
    "    rank, jokers, name = ranking_function_joker(count_letters, cards)\n",
    "    rank_l.append(rank)\n",
    "    name_l.append(name)\n",
    "    jokers_l.append(jokers)\n",
    "    jokers_max = max(jokers_max,jokers)\n",
    "    count_letters_l.append(count_letters)\n",
    "    value_l.append(value)\n",
    "df2 = pd.DataFrame({\n",
    "    \"cards\": df[\"cards\"],\n",
    "    \"bid\": df[\"bid\"],\n",
    "    \"count_letters\": count_letters_l,\n",
    "    \"name:\": name_l,\n",
    "    \"rank\": rank_l,\n",
    "    \"value\": value_l,\n",
    "    \"jokers\": jokers_l\n",
    "})"
   ]
  },
  {
   "cell_type": "code",
   "execution_count": 21,
   "metadata": {},
   "outputs": [],
   "source": [
    "for index, row in df2.iterrows():\n",
    "    df2.at[index, \"value0\"] = row[\"value\"][0]\n",
    "    df2.at[index, \"value1\"] = row[\"value\"][1]\n",
    "    df2.at[index, \"value2\"] = row[\"value\"][2]\n",
    "    df2.at[index, \"value3\"] = row[\"value\"][3]\n",
    "    df2.at[index, \"value4\"] = row[\"value\"][4]\n",
    "df2.sort_values(sorting_columns, ascending=False, inplace=True)"
   ]
  },
  {
   "cell_type": "code",
   "execution_count": 22,
   "metadata": {},
   "outputs": [
    {
     "data": {
      "text/plain": [
       "251037509"
      ]
     },
     "execution_count": 22,
     "metadata": {},
     "output_type": "execute_result"
    }
   ],
   "source": [
    "i = len(df2)\n",
    "for index, row in df2.iterrows():\n",
    "    df2.at[index, \"place\"] = i\n",
    "    i -= 1\n",
    "df2[\"winnings\"] = df2[\"place\"] * df2[\"bid\"]\n",
    "#resultat andre del\n",
    "int(sum(df2[\"winnings\"]))"
   ]
  },
  {
   "cell_type": "code",
   "execution_count": null,
   "metadata": {},
   "outputs": [],
   "source": []
  },
  {
   "cell_type": "code",
   "execution_count": null,
   "metadata": {},
   "outputs": [],
   "source": []
  }
 ],
 "metadata": {
  "kernelspec": {
   "display_name": "Python 3",
   "language": "python",
   "name": "python3"
  },
  "language_info": {
   "codemirror_mode": {
    "name": "ipython",
    "version": 3
   },
   "file_extension": ".py",
   "mimetype": "text/x-python",
   "name": "python",
   "nbconvert_exporter": "python",
   "pygments_lexer": "ipython3",
   "version": "3.11.6"
  }
 },
 "nbformat": 4,
 "nbformat_minor": 2
}
