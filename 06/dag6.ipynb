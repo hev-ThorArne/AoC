{
 "cells": [
  {
   "cell_type": "code",
   "execution_count": 69,
   "metadata": {},
   "outputs": [],
   "source": [
    "import pandas as pd\n",
    "import numpy as np"
   ]
  },
  {
   "cell_type": "code",
   "execution_count": 75,
   "metadata": {},
   "outputs": [],
   "source": [
    "with open('input.txt') as f:\n",
    "    lines = [line.rstrip() for line in f]"
   ]
  },
  {
   "cell_type": "code",
   "execution_count": 76,
   "metadata": {},
   "outputs": [],
   "source": [
    "time = lines[0].split()\n",
    "time = time[1:len(time)+1]\n",
    "time = [int(x) for x in time]\n",
    "distance = lines[1].split()\n",
    "distance = distance[1:len(distance)+1]\n",
    "distance = [int(x) for x in distance]"
   ]
  },
  {
   "cell_type": "code",
   "execution_count": 77,
   "metadata": {},
   "outputs": [],
   "source": [
    "races = []\n",
    "hold_times = []\n",
    "drive_times = []\n",
    "drive_lengths = []\n",
    "result_wins = []\n",
    "\n",
    "counter = 0\n",
    "\n",
    "for race in range(len(time)):\n",
    "    local_wins = 0\n",
    "    #print(time[race])\n",
    "    #print(distance[race])\n",
    "    for hold_time in range(1,time[race]+1):\n",
    "        total_time = time[race]\n",
    "        speed = hold_time\n",
    "        drive_time = total_time - hold_time\n",
    "        drive_length = speed * drive_time\n",
    "        #print(\"Race: \" + str(race) + \" hold time: \" + str(hold_time) + \" distance: \" + str(drive_length))\n",
    "        #races.append(race)\n",
    "        #hold_times.append(hold_time)\n",
    "        #drive_times.append(drive_time)\n",
    "        #drive_lengths.append(drive_length)\n",
    "        if drive_length > distance[race]:\n",
    "            local_wins += 1\n",
    "            counter += 1\n",
    "    result_wins.append(local_wins)\n",
    "\n",
    "\n",
    "# df = pd.DataFrame({\n",
    "#     \"race:\": races,\n",
    "#     \"hold_time\": hold_times,\n",
    "#     \"drive_time\": drive_times,\n",
    "#     \"drive_length\": drive_lengths,\n",
    "#     \"result_wins\": result_wins\n",
    "# })"
   ]
  },
  {
   "cell_type": "code",
   "execution_count": 78,
   "metadata": {},
   "outputs": [
    {
     "data": {
      "text/plain": [
       "345015"
      ]
     },
     "execution_count": 78,
     "metadata": {},
     "output_type": "execute_result"
    }
   ],
   "source": [
    "# resultat del 1\n",
    "\n",
    "np.prod(result_wins)\n",
    "    "
   ]
  },
  {
   "cell_type": "code",
   "execution_count": 67,
   "metadata": {},
   "outputs": [
    {
     "data": {
      "text/plain": [
       "[71503]"
      ]
     },
     "execution_count": 67,
     "metadata": {},
     "output_type": "execute_result"
    }
   ],
   "source": [
    "# resultat del 2 (etter bytte til input2.txt)\n",
    "counter"
   ]
  },
  {
   "cell_type": "code",
   "execution_count": 74,
   "metadata": {},
   "outputs": [
    {
     "data": {
      "text/plain": [
       "42588603"
      ]
     },
     "execution_count": 74,
     "metadata": {},
     "output_type": "execute_result"
    }
   ],
   "source": [
    "counter"
   ]
  },
  {
   "cell_type": "code",
   "execution_count": null,
   "metadata": {},
   "outputs": [],
   "source": []
  }
 ],
 "metadata": {
  "kernelspec": {
   "display_name": "Python 3",
   "language": "python",
   "name": "python3"
  },
  "language_info": {
   "codemirror_mode": {
    "name": "ipython",
    "version": 3
   },
   "file_extension": ".py",
   "mimetype": "text/x-python",
   "name": "python",
   "nbconvert_exporter": "python",
   "pygments_lexer": "ipython3",
   "version": "3.11.6"
  }
 },
 "nbformat": 4,
 "nbformat_minor": 2
}
