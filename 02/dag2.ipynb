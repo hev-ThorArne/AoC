{
 "cells": [
  {
   "cell_type": "code",
   "execution_count": 1,
   "metadata": {},
   "outputs": [],
   "source": [
    "import pandas as pd\n",
    "import re"
   ]
  },
  {
   "cell_type": "code",
   "execution_count": 2,
   "metadata": {},
   "outputs": [],
   "source": [
    "df = pd.read_csv(\"inputSample.txt\",sep=\";\",header=None)"
   ]
  },
  {
   "cell_type": "code",
   "execution_count": 3,
   "metadata": {},
   "outputs": [],
   "source": [
    "def line_process(string):\n",
    "    line_string = string\n",
    "    linesplit = re.split(\": \", str(line_string))\n",
    "    game = int(linesplit[0].replace(\"Game \",\"\"))\n",
    "    linesplit[0] = game\n",
    "    linesplit[1] = linesplit[1].split(\"; \")\n",
    "    blue = 0\n",
    "    red = 0\n",
    "    green = 0\n",
    "    for n in range(len(linesplit[1])):\n",
    "        blue = 0\n",
    "        red = 0\n",
    "        green = 0\n",
    "        linesplit[1][n] = linesplit[1][n].split(\",\")\n",
    "        for m in range(len(linesplit[1][n])):\n",
    "            if \"blue\" in linesplit[1][n][m]:\n",
    "                blue = int(linesplit[1][n][m].replace(\" blue\",\"\"))\n",
    "            if \"red\" in linesplit[1][n][m]:\n",
    "                red = int(linesplit[1][n][m].replace(\" red\",\"\"))\n",
    "            if \"green\" in linesplit[1][n][m]:\n",
    "                green = int(linesplit[1][n][m].replace(\" green\",\"\"))\n",
    "        linesplit[1][n] = [blue,red,green]\n",
    "    return linesplit"
   ]
  },
  {
   "cell_type": "code",
   "execution_count": 4,
   "metadata": {},
   "outputs": [
    {
     "name": "stdout",
     "output_type": "stream",
     "text": [
      "[[1, 1, 1, 1], [1, 8, 7, 1], [1, 10, 6, 1], [2, 9, 3, 7], [2, 5, 2, 15], [2, 10, 3, 13], [3, 3, 1, 4], [3, 6, 2, 3], [3, 6, 16, 1], [4, 19, 2, 2], [4, 11, 3, 16], [4, 20, 18, 13], [5, 1, 12, 8], [5, 6, 13, 10], [5, 1, 3, 6], [6, 1, 3, 6], [6, 1, 1, 6], [6, 1, 1, 2], [7, 2, 1, 5], [7, 1, 1, 5], [7, 3, 7, 5], [8, 3, 4, 6], [8, 3, 7, 10], [8, 3, 5, 10], [9, 3, 2, 2], [9, 8, 5, 6], [9, 8, 6, 11], [10, 2, 2, 8], [10, 2, 10, 3], [10, 2, 12, 1], [11, 12, 1, 1], [11, 1, 1, 7], [11, 1, 2, 3], [12, 4, 4, 10], [12, 3, 10, 18], [12, 5, 2, 18], [13, 8, 1, 3], [13, 6, 8, 2], [13, 11, 6, 3], [14, 10, 3, 15], [14, 6, 6, 7], [14, 8, 4, 13], [15, 4, 9, 8], [15, 4, 8, 4], [15, 10, 7, 8], [16, 12, 8, 2], [16, 10, 4, 4], [16, 5, 4, 9], [17, 4, 1, 6], [17, 4, 1, 6], [17, 6, 8, 10], [18, 5, 5, 1], [18, 5, 11, 1], [18, 18, 8, 3], [19, 2, 2, 16], [19, 2, 5, 17], [19, 2, 6, 10], [20, 7, 3, 6], [20, 7, 3, 16], [20, 7, 1, 6], [21, 10, 10, 6], [21, 7, 4, 16], [21, 2, 9, 11], [22, 7, 2, 12], [22, 3, 6, 10], [22, 11, 3, 12], [23, 7, 9, 12], [23, 5, 4, 1], [23, 10, 9, 8], [24, 2, 4, 15], [24, 2, 4, 1], [24, 2, 2, 7], [25, 12, 2, 12], [25, 11, 5, 15], [25, 5, 3, 15], [26, 7, 6, 18], [26, 3, 7, 2], [26, 1, 1, 1], [27, 5, 1, 5], [27, 7, 11, 5], [27, 4, 8, 7], [28, 1, 1, 12], [28, 1, 1, 17], [28, 1, 1, 15], [29, 1, 10, 15], [29, 2, 5, 6], [29, 2, 5, 19], [30, 10, 2, 13], [30, 1, 5, 14], [30, 14, 3, 9], [31, 8, 1, 6], [31, 12, 1, 8], [31, 5, 1, 8], [32, 6, 1, 7], [32, 2, 1, 12], [32, 2, 1, 3], [33, 3, 7, 10], [33, 3, 4, 15], [33, 6, 7, 18], [34, 1, 6, 3], [34, 2, 13, 2], [34, 2, 5, 7], [35, 3, 4, 7], [35, 6, 2, 3], [35, 3, 4, 8], [36, 8, 2, 2], [36, 14, 2, 11], [36, 14, 2, 1], [37, 10, 2, 2], [37, 5, 2, 1], [37, 5, 2, 11], [38, 11, 11, 1], [38, 9, 11, 1], [38, 5, 2, 1], [39, 3, 2, 1], [39, 18, 2, 2], [39, 18, 2, 2], [40, 4, 3, 2], [40, 2, 3, 2], [40, 7, 2, 1], [41, 10, 3, 5], [41, 12, 3, 6], [41, 7, 2, 5], [42, 1, 2, 11], [42, 4, 2, 6], [42, 4, 4, 7], [43, 4, 1, 7], [43, 4, 16, 6], [43, 1, 16, 7], [44, 1, 5, 3], [44, 1, 9, 3], [44, 1, 14, 3], [45, 1, 1, 3], [45, 1, 1, 3], [45, 1, 1, 3], [46, 8, 2, 1], [46, 7, 13, 2], [46, 3, 4, 2], [47, 1, 8, 8], [47, 2, 1, 6], [47, 5, 6, 2], [48, 8, 5, 14], [48, 7, 7, 10], [48, 6, 9, 9], [49, 2, 6, 10], [49, 4, 3, 5], [49, 8, 8, 11], [50, 3, 8, 2], [50, 1, 8, 2], [50, 2, 3, 2], [51, 8, 3, 4], [51, 8, 5, 13], [51, 3, 11, 14], [52, 1, 1, 2], [52, 2, 3, 2], [52, 4, 3, 1], [53, 9, 18, 4], [53, 9, 6, 9], [53, 9, 14, 9], [54, 2, 7, 3], [54, 3, 2, 6], [54, 3, 1, 3], [55, 3, 6, 3], [55, 6, 8, 6], [55, 3, 8, 5], [56, 3, 8, 4], [56, 1, 2, 4], [56, 1, 3, 6], [57, 15, 3, 3], [57, 15, 1, 2], [57, 15, 1, 1], [58, 1, 5, 1], [58, 1, 5, 5], [58, 2, 8, 6], [59, 5, 8, 3], [59, 4, 12, 1], [59, 4, 18, 2], [60, 2, 6, 7], [60, 2, 6, 4], [60, 2, 5, 11], [61, 6, 5, 6], [61, 6, 3, 1], [61, 1, 7, 6], [62, 3, 7, 4], [62, 2, 4, 4], [62, 1, 13, 5], [63, 2, 4, 13], [63, 5, 10, 10], [63, 6, 13, 3], [64, 6, 5, 2], [64, 1, 1, 6], [64, 1, 3, 11], [65, 4, 2, 5], [65, 4, 2, 1], [65, 3, 4, 5], [66, 14, 1, 17], [66, 2, 2, 12], [66, 14, 1, 4], [67, 4, 10, 7], [67, 4, 11, 4], [67, 2, 3, 7], [68, 4, 5, 7], [68, 5, 10, 8], [68, 1, 10, 1], [69, 1, 15, 2], [69, 1, 16, 15], [69, 1, 14, 15], [70, 1, 2, 9], [70, 1, 2, 2], [70, 1, 4, 7], [71, 1, 5, 1], [71, 1, 5, 2], [71, 1, 2, 1], [72, 1, 5, 5], [72, 3, 5, 8], [72, 3, 7, 8], [73, 4, 3, 1], [73, 3, 5, 5], [73, 1, 8, 7], [74, 2, 5, 4], [74, 4, 3, 6], [74, 5, 2, 6], [75, 10, 14, 20], [75, 17, 9, 15], [75, 6, 18, 8], [76, 1, 9, 7], [76, 3, 9, 1], [76, 3, 9, 3], [77, 7, 1, 9], [77, 7, 1, 5], [77, 4, 1, 1], [78, 11, 4, 4], [78, 12, 4, 3], [78, 11, 13, 4], [79, 16, 1, 4], [79, 9, 2, 2], [79, 12, 2, 2], [80, 5, 2, 3], [80, 5, 8, 3], [80, 8, 10, 8], [81, 3, 10, 1], [81, 3, 6, 1], [81, 6, 8, 1], [82, 2, 4, 1], [82, 3, 7, 10], [82, 1, 7, 7], [83, 1, 12, 9], [83, 1, 7, 10], [83, 1, 12, 7], [84, 1, 2, 1], [84, 9, 2, 2], [84, 14, 1, 2], [85, 8, 1, 8], [85, 4, 4, 1], [85, 8, 18, 7], [86, 11, 14, 14], [86, 11, 14, 9], [86, 12, 13, 4], [87, 3, 7, 3], [87, 2, 20, 3], [87, 2, 9, 12], [88, 1, 4, 4], [88, 3, 1, 1], [88, 3, 3, 2], [89, 1, 8, 2], [89, 4, 6, 1], [89, 3, 12, 1], [90, 3, 12, 2], [90, 13, 4, 2], [90, 7, 1, 2], [91, 2, 8, 9], [91, 2, 5, 17], [91, 1, 7, 2], [92, 8, 11, 2], [92, 2, 9, 7], [92, 6, 3, 3], [93, 1, 4, 3], [93, 1, 3, 7], [93, 1, 3, 6], [94, 11, 3, 13], [94, 15, 5, 4], [94, 1, 5, 7], [95, 6, 10, 4], [95, 6, 9, 4], [95, 9, 8, 5], [96, 2, 1, 2], [96, 1, 1, 4], [96, 1, 1, 1], [97, 4, 1, 5], [97, 3, 5, 5], [97, 1, 8, 2], [98, 1, 1, 2], [98, 1, 1, 2], [98, 5, 1, 2], [99, 5, 6, 2], [99, 9, 1, 2], [99, 2, 5, 2], [100, 14, 1, 13], [100, 7, 11, 11], [100, 2, 1, 2]]\n"
     ]
    }
   ],
   "source": [
    "df = pd.read_csv(\"input.txt\",sep=\";\",header=None)\n",
    "colors = [\"red\",\"blue\",\"green\"]\n",
    "results = []\n",
    "red = 0\n",
    "blue = 0\n",
    "green = 0\n",
    "reds = 0\n",
    "blues = 0\n",
    "greens = 0\n",
    "game = 0\n",
    "for line in df.index:\n",
    "    for m in range(0,3):\n",
    "        linesplit0 = re.split(': |, |\\*|\\n',str(df[m][line]))\n",
    "        linesplit0[0] = linesplit0[0].replace(\"Game \",\"\")\n",
    "        if m == 0:\n",
    "            game = int(linesplit0[0])\n",
    "        for n in linesplit0:\n",
    "            if \"blue\" in str(n):\n",
    "                blue = int(str(n).replace(\" blue\",\"\"))\n",
    "            if \"red\" in str(n):\n",
    "                red = int(str(n).replace(\" red\",\"\"))\n",
    "            if \"green\" in str(n):\n",
    "                green = int(str(n).replace(\" green\",\"\"))\n",
    "        blues = max(blues,blue)\n",
    "        reds = max(reds,red)\n",
    "        greens = max(greens,green)\n",
    "        results.append([game, red, blue, green])\n",
    "    \n",
    "print(results)"
   ]
  },
  {
   "cell_type": "code",
   "execution_count": 5,
   "metadata": {},
   "outputs": [],
   "source": [
    "line_string = \"Game 2: 1 blue, 2 green; 3 green, 4 blue, 1 red; 1 green, 1 blue\""
   ]
  },
  {
   "cell_type": "code",
   "execution_count": 6,
   "metadata": {},
   "outputs": [
    {
     "data": {
      "text/plain": [
       "[2, [[1, 0, 2], [4, 1, 3], [1, 0, 1]]]"
      ]
     },
     "execution_count": 6,
     "metadata": {},
     "output_type": "execute_result"
    }
   ],
   "source": [
    "line_process(line_string)"
   ]
  },
  {
   "cell_type": "code",
   "execution_count": 7,
   "metadata": {},
   "outputs": [
    {
     "name": "stdout",
     "output_type": "stream",
     "text": [
      "480\n"
     ]
    }
   ],
   "source": [
    "# feil.. Skulle ikke summere alle. Bruker enklere metode under\n",
    "file1 = open('input.txt', 'r')\n",
    "Lines = file1.readlines()\n",
    "df2 = pd.DataFrame()\n",
    "count = 0\n",
    "blues_line = 0\n",
    "reds_line = 0\n",
    "greens_line = 0\n",
    "summer = 0\n",
    "processed_lines = []\n",
    "blues_line_l = []\n",
    "reds_line_l = []\n",
    "greens_line_l = []\n",
    "# Strips the newline character\n",
    "for line in Lines:\n",
    "    count += 1\n",
    "    line_result = line_process(line)\n",
    "    processed_lines.append(line_result)\n",
    "    blues_line = 0\n",
    "    reds_line = 0\n",
    "    greens_line = 0\n",
    "    for n in range(len(line_result[1])):\n",
    "        blues_line = blues_line + line_result[1][n][0] # her er feilen.. Men bruker raskere metode under.\n",
    "        reds_line = reds_line + line_result[1][n][1]\n",
    "        greens_line = greens_line + line_result[1][n][2]\n",
    "    blues_line_l.append(blues_line)\n",
    "    reds_line_l.append(reds_line)\n",
    "    greens_line_l.append(greens_line)\n",
    "    # print(str(blues_line) + \" \" + str(reds_line) + \" \" + str(greens_line))\n",
    "    if blues_line <= 14 and reds_line <= 12 and greens_line <= 13:\n",
    "        #print(line)\n",
    "        summer = summer + line_result[0]\n",
    "print(summer)\n",
    "df2[\"input\"] = Lines\n",
    "df2[\"processed\"] = processed_lines\n",
    "df2[\"blues_line\"] = blues_line_l\n",
    "df2[\"reds_line\"] = reds_line_l\n",
    "df2[\"greens_line\"] = greens_line_l\n"
   ]
  },
  {
   "cell_type": "code",
   "execution_count": 8,
   "metadata": {},
   "outputs": [],
   "source": [
    "# Dette er metoden som fungerer..\n",
    "file1 = open('input.txt', 'r')\n",
    "Lines = file1.readlines()\n",
    "dfTest = pd.DataFrame(Lines)\n",
    "dfTest[\"game\"] = 0\n",
    "dfTest[\"blues\"] = 0\n",
    "dfTest[\"reds\"] = 0\n",
    "dfTest[\"greens\"] = 0\n"
   ]
  },
  {
   "cell_type": "code",
   "execution_count": 9,
   "metadata": {},
   "outputs": [],
   "source": [
    "for n in dfTest.index:\n",
    "    blues = 0\n",
    "    reds = 0\n",
    "    greens = 0\n",
    "    line_result = line_process(dfTest[0][n])\n",
    "    dfTest.at[n, \"game\"] = line_result[0]\n",
    "    for m in range(len(line_result[1])):\n",
    "        # blues = blues + line_result[1][m][0]\n",
    "        blues = max(blues,line_result[1][m][0])\n",
    "        # reds = reds + line_result[1][m][1]\n",
    "        reds = max(reds,line_result[1][m][1])\n",
    "        # greens = greens + line_result[1][m][2]\n",
    "        greens = max(greens,line_result[1][m][2])\n",
    "    dfTest.at[n, \"blues\"] = blues\n",
    "    dfTest.at[n, \"reds\"] = reds\n",
    "    dfTest.at[n, \"greens\"] = greens"
   ]
  },
  {
   "cell_type": "code",
   "execution_count": 14,
   "metadata": {},
   "outputs": [],
   "source": [
    "dfTest2 = dfTest[dfTest[\"blues\"] <= 14]\n",
    "dfTest3 = dfTest2[dfTest2[\"reds\"] <= 12]\n",
    "dfTest4 = dfTest3[dfTest3[\"greens\"] <= 13]"
   ]
  },
  {
   "cell_type": "code",
   "execution_count": 15,
   "metadata": {},
   "outputs": [
    {
     "data": {
      "text/plain": [
       "3035"
      ]
     },
     "execution_count": 15,
     "metadata": {},
     "output_type": "execute_result"
    }
   ],
   "source": [
    "sum(dfTest4[\"game\"])"
   ]
  },
  {
   "cell_type": "code",
   "execution_count": 16,
   "metadata": {},
   "outputs": [],
   "source": [
    "dfTest[\"multi\"] = 0\n",
    "for n in dfTest.index:\n",
    "    dfTest.at[n, \"multi\"] = dfTest[\"blues\"][n] * dfTest[\"reds\"][n] * dfTest[\"greens\"][n]"
   ]
  },
  {
   "cell_type": "code",
   "execution_count": 17,
   "metadata": {},
   "outputs": [
    {
     "data": {
      "text/plain": [
       "66027"
      ]
     },
     "execution_count": 17,
     "metadata": {},
     "output_type": "execute_result"
    }
   ],
   "source": [
    "sum(dfTest[\"multi\"])"
   ]
  },
  {
   "cell_type": "code",
   "execution_count": null,
   "metadata": {},
   "outputs": [],
   "source": []
  }
 ],
 "metadata": {
  "kernelspec": {
   "display_name": "Python 3",
   "language": "python",
   "name": "python3"
  },
  "language_info": {
   "codemirror_mode": {
    "name": "ipython",
    "version": 3
   },
   "file_extension": ".py",
   "mimetype": "text/x-python",
   "name": "python",
   "nbconvert_exporter": "python",
   "pygments_lexer": "ipython3",
   "version": "3.11.6"
  }
 },
 "nbformat": 4,
 "nbformat_minor": 2
}
