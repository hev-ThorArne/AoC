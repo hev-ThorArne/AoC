{
 "cells": [
  {
   "cell_type": "code",
   "execution_count": 1,
   "metadata": {},
   "outputs": [],
   "source": [
    "import pandas as pd\n",
    "import re"
   ]
  },
  {
   "cell_type": "code",
   "execution_count": 9,
   "metadata": {},
   "outputs": [],
   "source": [
    "df = pd.read_csv(\"input.txt\",header=None)\n",
    "values = df.values\n"
   ]
  },
  {
   "cell_type": "code",
   "execution_count": 5,
   "metadata": {},
   "outputs": [
    {
     "name": "stdout",
     "output_type": "stream",
     "text": [
      "142\n"
     ]
    }
   ],
   "source": [
    "firstnumber = []\n",
    "lastnumber = []\n",
    "addition = []\n",
    "for value in values:\n",
    "    numbers = re.findall(\"[0-9]\",str(value))\n",
    "    try:\n",
    "        firstnumber.append(int(numbers[0]))\n",
    "        lastnumber.append(int(numbers[-1]))\n",
    "        number = int(str(numbers[0]) + str(numbers[-1]))\n",
    "        addition.append(number)\n",
    "    except:\n",
    "        print(value)\n",
    "\n",
    "print(sum(addition))\n"
   ]
  },
  {
   "cell_type": "code",
   "execution_count": 48,
   "metadata": {},
   "outputs": [],
   "source": [
    "stringnumbers = [\"zero\",\"one\",\"two\",\"three\",\"four\",\"five\",\"six\",\"seven\",\"eight\",\"nine\"]"
   ]
  },
  {
   "cell_type": "code",
   "execution_count": 53,
   "metadata": {},
   "outputs": [
    {
     "name": "stdout",
     "output_type": "stream",
     "text": [
      "54885\n"
     ]
    }
   ],
   "source": [
    "df = pd.read_csv(\"input2.txt\",header=None)\n",
    "values = df.values\n",
    "firstnumber = []\n",
    "lastnumber = []\n",
    "addition = []\n",
    "processed = []\n",
    "for value in values:\n",
    "    try:\n",
    "        value = str(value).replace(\"eightwo\",str(82))\n",
    "    except:\n",
    "        n = 0\n",
    "    try:\n",
    "        value = str(value).replace(\"oneight\",str(18))\n",
    "    except:\n",
    "        n = 0\n",
    "    try:\n",
    "        value = str(value).replace(\"twone\",str(21))\n",
    "    except:\n",
    "        n = 0\n",
    "    n = 0\n",
    "    for stringnumber in stringnumbers:\n",
    "        value = str(value).replace(stringnumber,str(n))\n",
    "        n = n + 1\n",
    "    n = 0\n",
    "    for stringnumber in stringnumbers:\n",
    "        value = str(value).replace(stringnumber,str(n))\n",
    "        n = n + 1\n",
    "    processed.append(value)\n",
    "    numbers = re.findall(\"[0-9]\",str(value))\n",
    "    firstnumber.append(int(numbers[0]))  # for debug\n",
    "    lastnumber.append(int(numbers[-1]))\n",
    "    number = int(str(numbers[0]) + str(numbers[-1]))\n",
    "    addition.append(number)\n",
    "\n",
    "print(sum(addition))"
   ]
  },
  {
   "cell_type": "code",
   "execution_count": 52,
   "metadata": {},
   "outputs": [],
   "source": [
    "df2 = pd.DataFrame()\n",
    "df2[\"values\"] = df\n",
    "df2[\"firstnumber\"] = firstnumber\n",
    "df2[\"lastnumber\"] = lastnumber\n",
    "df2[\"addition\"] = addition\n",
    "df2[\"processed\"] = processed\n",
    "summer = 0\n",
    "for n in df2.index:\n",
    "    summer = summer + int(str(df2[\"firstnumber\"][n]) + str(df2[\"lastnumber\"][n]))"
   ]
  },
  {
   "cell_type": "code",
   "execution_count": null,
   "metadata": {},
   "outputs": [],
   "source": []
  }
 ],
 "metadata": {
  "kernelspec": {
   "display_name": "Python 3",
   "language": "python",
   "name": "python3"
  },
  "language_info": {
   "codemirror_mode": {
    "name": "ipython",
    "version": 3
   },
   "file_extension": ".py",
   "mimetype": "text/x-python",
   "name": "python",
   "nbconvert_exporter": "python",
   "pygments_lexer": "ipython3",
   "version": "3.11.6"
  }
 },
 "nbformat": 4,
 "nbformat_minor": 2
}
